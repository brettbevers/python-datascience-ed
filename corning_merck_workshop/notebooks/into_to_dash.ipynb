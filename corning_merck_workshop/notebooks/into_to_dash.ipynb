{
 "cells": [
  {
   "cell_type": "markdown",
   "id": "d355b610-8413-409f-9630-70925d4c21e0",
   "metadata": {},
   "source": [
    "## The `app`\n",
    "* interface to the Dash _application layer_\n",
    "* manages application concerns, such as _rendering_ and _serving_\n",
    "* has hooks for business concerns, such as _layout_ and _callbacks_\n",
    "* Tip: If you are running JupyterLab in Anaconda, run the app inline: `mode='inline'`."
   ]
  },
  {
   "cell_type": "code",
   "execution_count": null,
   "id": "05cb8dea-656c-4e50-ac2b-3ca4bd26b7f2",
   "metadata": {},
   "outputs": [],
   "source": [
    "from jupyter_dash import JupyterDash\n",
    "import dash_html_components as html\n",
    "\n",
    "external_stylesheets = [\n",
    "    'https://codepen.io/chriddyp/pen/bWLwgP.css',\n",
    "    'file://localhost/home/jovyan/work/assets/customer.css'\n",
    "                       ]\n",
    "\n",
    "app = JupyterDash(__name__, external_stylesheets=external_stylesheets)\n",
    "\n",
    "app.layout = html.Div(children=[\n",
    "    html.H1(children='Hello Dash'),\n",
    "    html.Div(children='''\n",
    "        Dash: A web application framework for Python.\n",
    "    '''),\n",
    "])\n",
    "\n",
    "app.run_server(host='0.0.0.0', port='8050', mode='jupyterlab') # or mode='inline'"
   ]
  },
  {
   "cell_type": "code",
   "execution_count": null,
   "id": "df3190c6-bafc-49ed-a0e7-e50cc0427160",
   "metadata": {},
   "outputs": [],
   "source": [
    "def init_app():\n",
    "    return JupyterDash(__name__, external_stylesheets=external_stylesheets)\n",
    "\n",
    "def run_server(app):\n",
    "    app.run_server(\n",
    "        host='0.0.0.0', \n",
    "        port='8050', \n",
    "        mode='jupyterlab', \n",
    "        debug=False)"
   ]
  },
  {
   "cell_type": "markdown",
   "id": "653f6006-155a-4d56-9511-72a7f021c442",
   "metadata": {},
   "source": [
    "## Plotly"
   ]
  },
  {
   "cell_type": "code",
   "execution_count": null,
   "id": "2397697e-9f46-46e8-8445-92f9a04cf4a3",
   "metadata": {},
   "outputs": [],
   "source": [
    "import pandas as pd\n",
    "\n",
    "# Valid URL schemes include http, ftp, s3, gs, and file.\n",
    "df = pd.read_csv('file://localhost/home/jovyan/work/penguins.csv') # In Anaconda, change to local path to file.\n",
    "df"
   ]
  },
  {
   "cell_type": "code",
   "execution_count": null,
   "id": "6b6995e8-09fb-4a03-a95e-646383422f85",
   "metadata": {
    "tags": []
   },
   "outputs": [],
   "source": [
    "import plotly.express as px\n",
    "\n",
    "fig = px.scatter(\n",
    "    df, \n",
    "    x=\"bill_length_mm\", \n",
    "    y=\"bill_depth_mm\", \n",
    "    color=\"species\"\n",
    ")\n",
    "fig.update_layout(title='Bill Shape')\n",
    "fig.show()"
   ]
  },
  {
   "cell_type": "markdown",
   "id": "5b0ba5e0-88b4-4dc1-abad-1d37a8739f58",
   "metadata": {},
   "source": [
    "## Dash Component - Graph"
   ]
  },
  {
   "cell_type": "code",
   "execution_count": null,
   "id": "63d97f20-b8bb-4ec4-bc91-e5dec3fdd150",
   "metadata": {},
   "outputs": [],
   "source": [
    "import dash_core_components as dcc\n",
    "\n",
    "app.layout = html.Div(children=[\n",
    "    html.H1(children='Penguins'),\n",
    "    dcc.Graph(\n",
    "        id='scatter',\n",
    "        figure=fig\n",
    "    )\n",
    "])\n",
    "\n",
    "run_server(app)"
   ]
  },
  {
   "cell_type": "markdown",
   "id": "c9d1a13b-04af-4783-a10d-521e1dc276d1",
   "metadata": {},
   "source": [
    "## Dash Component - Input\n",
    "* Supported types: text, number, password, email, search, tel, url, range, hidden"
   ]
  },
  {
   "cell_type": "code",
   "execution_count": null,
   "id": "c1ce4c9f-b751-47ec-a14d-fc34a2a01067",
   "metadata": {},
   "outputs": [],
   "source": [
    "app.layout = html.Div(children=[\n",
    "    html.H1(children='Penguins'),\n",
    "    html.Div(children=[\n",
    "        html.Label(children=\"Title\"),\n",
    "        dcc.Input(\n",
    "            id=\"input_title\",\n",
    "            type='text',\n",
    "            value='Bill Shape'\n",
    "        )\n",
    "    ], id=\"container_form\", className=\"pretty_container\"),\n",
    "    html.Div(children=[\n",
    "        dcc.Graph(\n",
    "            id='scatter',\n",
    "            figure=fig\n",
    "        )\n",
    "    ], id=\"container_fig\", className=\"pretty_container\")\n",
    "])\n",
    "\n",
    "run_server(app)"
   ]
  },
  {
   "cell_type": "markdown",
   "id": "f5b748d7-3b4f-4538-89e2-ac67a93b9fc4",
   "metadata": {},
   "source": [
    "## Callbacks"
   ]
  },
  {
   "cell_type": "code",
   "execution_count": null,
   "id": "41bc757d-a032-4609-a2f6-d222c7506fb5",
   "metadata": {},
   "outputs": [],
   "source": [
    "import dash\n",
    "\n",
    "app = init_app()\n",
    "\n",
    "app.layout = html.Div(children=[\n",
    "    html.H1(children='Penguins'),\n",
    "    html.Div(children=[\n",
    "        html.Label(children=\"Title\"),\n",
    "        dcc.Input(\n",
    "            id=\"input_title\",\n",
    "            type='text',\n",
    "            value='Bill Shape'\n",
    "        )\n",
    "    ], id=\"container_form\", className=\"pretty_container\"),\n",
    "    html.Div([\n",
    "        html.Div(id='output_container')\n",
    "    ], id=\"container_fig\", className=\"pretty_container\")\n",
    "])\n",
    "\n",
    "@app.callback(\n",
    "    dash.dependencies.Output('output_container', 'children'),\n",
    "    [dash.dependencies.Input('input_title', 'value')]\n",
    ")\n",
    "def update_content(title):\n",
    "    return f'Title: \"{title}\"'\n",
    "\n",
    "run_server(app)"
   ]
  },
  {
   "cell_type": "markdown",
   "id": "ea3635a8-c29c-4400-ab97-4715b2c69e58",
   "metadata": {},
   "source": [
    "## Dash Component - Dropdown"
   ]
  },
  {
   "cell_type": "code",
   "execution_count": null,
   "id": "c3a2c02f-3390-4bd6-9ee3-312cf0e30a0d",
   "metadata": {},
   "outputs": [],
   "source": [
    "app = init_app()\n",
    "\n",
    "app.layout = html.Div(children=[\n",
    "    html.H1(children='Penguins'),\n",
    "    html.Div(children=[\n",
    "        html.Label(children=\"Title\"),\n",
    "        dcc.Input(\n",
    "            id=\"input_title\",\n",
    "            type='text',\n",
    "            value='Bill Shape'\n",
    "        ),\n",
    "        html.Label(children=\"Grouping\"),\n",
    "        dcc.Dropdown(\n",
    "            id='dropdown_grouping',\n",
    "            options=[\n",
    "                {'label': 'Species', 'value': 'species'},\n",
    "                {'label': 'Island', 'value': 'island'},\n",
    "                {'label': 'Year', 'value': 'year'},\n",
    "            ], \n",
    "            value='species'\n",
    "        ),\n",
    "        html.Label(children=\"X Dimension\"),\n",
    "        dcc.Dropdown(\n",
    "            id='dropdown_x',\n",
    "            options=[\n",
    "                {'label': 'Bill Length (mm)', 'value': 'bill_length_mm'},\n",
    "                {'label': 'Bill Depth (mm)', 'value': 'bill_depth_mm'},\n",
    "                {'label': 'Flipper Length (mm)', 'value': 'flipper_length_mm'},\n",
    "                {'label': 'Body Mass (g)', 'value': 'body_mass_g'},\n",
    "            ], \n",
    "            value='bill_length_mm'\n",
    "        ),\n",
    "        html.Label(children=\"Y Dimension\"),\n",
    "        dcc.Dropdown(\n",
    "            id='dropdown_y',\n",
    "            options=[\n",
    "                {'label': 'Bill Length (mm)', 'value': 'bill_length_mm'},\n",
    "                {'label': 'Bill Depth (mm)', 'value': 'bill_depth_mm'},\n",
    "                {'label': 'Flipper Length (mm)', 'value': 'flipper_length_mm'},\n",
    "                {'label': 'Body Mass (g)', 'value': 'body_mass_g'},\n",
    "            ], \n",
    "            value='bill_depth_mm'\n",
    "        )\n",
    "    ], id=\"container_form\", className=\"pretty_container\"),\n",
    "    html.Div([\n",
    "        html.Div(id='graph_container')\n",
    "    ], id=\"container_fig\", className=\"pretty_container\")\n",
    "])\n",
    "\n",
    "run_server(app)"
   ]
  },
  {
   "cell_type": "markdown",
   "id": "1063f4af-b433-4be9-ba47-1440c65e5346",
   "metadata": {},
   "source": [
    "## Dynamic Graph"
   ]
  },
  {
   "cell_type": "code",
   "execution_count": null,
   "id": "1a8a1f02-446b-4227-b6c9-8d15b96c4a35",
   "metadata": {},
   "outputs": [],
   "source": [
    "@app.callback(\n",
    "    dash.dependencies.Output('graph_container', 'children'),\n",
    "    [\n",
    "        dash.dependencies.Input('input_title', 'value'),\n",
    "        dash.dependencies.Input('dropdown_grouping', 'value'),\n",
    "        dash.dependencies.Input('dropdown_x', 'value'),\n",
    "        dash.dependencies.Input('dropdown_y', 'value'),\n",
    "    ]\n",
    ")\n",
    "def update_graph(title, grouping, x, y):\n",
    "    fig = px.scatter(\n",
    "        df, \n",
    "        x=x, \n",
    "        y=y, \n",
    "        color=grouping\n",
    "    )\n",
    "    fig.update_layout(title=title)\n",
    "    return dcc.Graph(id='scatter', figure=fig)\n",
    "\n",
    "run_server(app)"
   ]
  },
  {
   "cell_type": "code",
   "execution_count": null,
   "id": "a971fb45-6178-4240-8a6f-451de9198e77",
   "metadata": {},
   "outputs": [],
   "source": []
  }
 ],
 "metadata": {
  "kernelspec": {
   "display_name": "Python 3",
   "language": "python",
   "name": "python3"
  },
  "language_info": {
   "codemirror_mode": {
    "name": "ipython",
    "version": 3
   },
   "file_extension": ".py",
   "mimetype": "text/x-python",
   "name": "python",
   "nbconvert_exporter": "python",
   "pygments_lexer": "ipython3",
   "version": "3.9.4"
  }
 },
 "nbformat": 4,
 "nbformat_minor": 5
}
