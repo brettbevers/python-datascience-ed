{
 "cells": [
  {
   "cell_type": "markdown",
   "id": "265d2953-235b-4289-85ce-f87510b5a146",
   "metadata": {},
   "source": [
    "## Python Highlights\n",
    "* *High level*: don't worry about the bits and bytes\n",
    "* *Interpreted*: there is no explicit compilation step\n",
    "* *General purpose*: use it for whatever you want\n",
    "* *Multi-paradigm*: object oriented, imperative, functional, etc\n",
    "* *Dynamically-typed*: values have types, not variables\n",
    "* *Interactive*: you can open a Python shell or notebook to play and experiment\n",
    "* *Batteries included*: standard library is massive\n",
    "* *Readability*: code should be easy for humans, not computers\n",
    "* *Open source*: the standard Python implementation is open source and freely usable, modifiable, and distributable (even for commercial use!)\n",
    "* *Tremendous community*: enormous amounts of online tutorials, examples, resources"
   ]
  },
  {
   "cell_type": "markdown",
   "id": "489d78e2-dbfe-4acb-ade4-c91bfae2b480",
   "metadata": {},
   "source": [
    "## Jupyter Lab tips\n",
    "\n",
    "* Ctrl-enter runs a cell. Shift-enter runs and moves down a cell.\n",
    "* Output can be cleared.\n",
    "    * Edit > Clear All Outputs\n",
    "\n",
    "\n",
    "* Kernel: backing Python process\n",
    "    * All variables are saved here.\n",
    "    * Restarting it gives you a clean slate.\n",
    "    * It's important to occassionally restart and run everything again; otherwise, variables may persist from deleted cells.\n",
    "\n",
    "\n",
    "* Cell type\n",
    "    * Python vs Markdown\n",
    "    * Markdown also includes LaTeX: $e^{i\\pi} + 1 = 0$"
   ]
  },
  {
   "cell_type": "code",
   "execution_count": null,
   "id": "0ab490db-0bd3-4798-b86c-0040c9a06d16",
   "metadata": {},
   "outputs": [],
   "source": [
    " print('Hello, world!')"
   ]
  },
  {
   "cell_type": "code",
   "execution_count": null,
   "id": "6396d38e-aaf6-43b7-8c7f-ee2459cc0d28",
   "metadata": {},
   "outputs": [],
   "source": [
    "x = 10\n",
    "y = 10 * 20\n",
    "x + y  # if the last expression in a cell is a value, Jupyter prints it"
   ]
  },
  {
   "cell_type": "markdown",
   "id": "532e2d3f-816a-410c-9aa8-4b5058573b41",
   "metadata": {},
   "source": [
    "## Jupyter Gotcha!\n",
    "\n",
    "Cells can be executed arbitrarily out of order!\n",
    "This can cause a lot of pain when revisiting old notebooks or sharing them with others.\n",
    "Always try to make sure your notebook still works if you restart the kernel and run from the start!\n",
    "\n",
    "Run the cell below multiple times to see how \n",
    "your results change every time you run it."
   ]
  },
  {
   "cell_type": "code",
   "execution_count": null,
   "id": "8e75c575-122c-4c6f-8a81-238e1afc8f31",
   "metadata": {},
   "outputs": [],
   "source": [
    "x = x + 1\n",
    "x"
   ]
  },
  {
   "cell_type": "markdown",
   "id": "2a49abe0-8288-47e3-8b07-f7a0559ae4cd",
   "metadata": {},
   "source": [
    "## Primitive Types\n",
    "\n",
    "* _None_\n",
    "* _bool_: True, False\n",
    "* _int_: unbounded\n",
    "    * Hex, octal, and binary: 0xFF, 0o77, 0b11\n",
    "\n",
    "\n",
    "* _float_: double-precision IEEE754\n",
    "    * Scientific notation: 1e3, 0.3e-3\n",
    "\n",
    "\n",
    "* _complex_: 3j, 100 + 3j\n",
    "    * Adding a complex number to a normal integer yields a complex number.\n",
    "    * The only actual use case I've seen is for some shortcut behavior in numpy.\n",
    "\n",
    "\n",
    "* _str_: unicode in Py3, bytes in Py2\n",
    "    * immutible, 0-indexed sequence\n",
    "    * Raw strings don't escape: r'c:\\\\raw\\\\normal'\n",
    "    * Adjacent string literals will concatenate: 'hello' ' world'\n",
    "    * F-strings in 3.6+ will interpolate expressions: f'x = {x}'"
   ]
  },
  {
   "cell_type": "code",
   "execution_count": null,
   "id": "52d4746a-deb8-4d72-9146-379682b1b2cf",
   "metadata": {},
   "outputs": [],
   "source": [
    "x = f'1{1 + 1}'\n",
    "x"
   ]
  },
  {
   "cell_type": "code",
   "execution_count": null,
   "id": "fdf6a683-e5ad-4e4e-9b71-b03fd854c999",
   "metadata": {},
   "outputs": [],
   "source": [
    "complex(x) # type coercion"
   ]
  },
  {
   "cell_type": "code",
   "execution_count": null,
   "id": "870f0074-d9a5-4218-8299-2c63e6e5ba6f",
   "metadata": {},
   "outputs": [],
   "source": [
    "float(x)"
   ]
  },
  {
   "cell_type": "code",
   "execution_count": null,
   "id": "2605e400-18a3-4168-b660-5d8ee59ff6a5",
   "metadata": {},
   "outputs": [],
   "source": [
    "str(float(x))"
   ]
  },
  {
   "cell_type": "markdown",
   "id": "ba3fd1e2-60f7-4516-8c08-88d224a054ee",
   "metadata": {},
   "source": [
    "## Numeric Operators"
   ]
  },
  {
   "cell_type": "code",
   "execution_count": null,
   "id": "88fb304d-1867-4382-8e61-b185546d648d",
   "metadata": {},
   "outputs": [],
   "source": [
    "3 + 4 # arithmetic\n",
    "3 - 4\n",
    "3 * 4\n",
    "3 / 4\n",
    "3 // 4 # integer / floor division\n",
    "3 % 4 # modulo (and string formatting, but don't)\n",
    "3 ** 4 # exponentiation"
   ]
  },
  {
   "cell_type": "code",
   "execution_count": null,
   "id": "b3674a4a-e8fa-418b-bde7-13d9240b6fb1",
   "metadata": {},
   "outputs": [],
   "source": [
    "3 == 4 # equal\n",
    "3 != 4 # not equal\n",
    "3 < 4\n",
    "3 > 4\n",
    "3 <= 4\n",
    "3 >= 4\n",
    "\n",
    "x = 4\n",
    "3 < x < 5 # comparison chaining works!"
   ]
  },
  {
   "cell_type": "markdown",
   "id": "49555d34-65a5-43c0-bf54-c6cbb3b0468d",
   "metadata": {},
   "source": [
    "## Compound Types - list\n",
    "* similar to dynamic arrays or vectors\n",
    "* mutable\n",
    "* 0-indexed"
   ]
  },
  {
   "cell_type": "code",
   "execution_count": null,
   "id": "74529723-ed5f-4a80-a702-275987312295",
   "metadata": {},
   "outputs": [],
   "source": [
    "x = ['b', 'c'] # list literal\n",
    "x"
   ]
  },
  {
   "cell_type": "code",
   "execution_count": null,
   "id": "a24614e8-dc4d-4cf2-9743-68aaad732d69",
   "metadata": {},
   "outputs": [],
   "source": [
    "x.append('d') # add items to the end\n",
    "x"
   ]
  },
  {
   "cell_type": "code",
   "execution_count": null,
   "id": "d612c393-4f04-4b3a-b91b-a6beea18a4d5",
   "metadata": {},
   "outputs": [],
   "source": [
    "len(x)"
   ]
  },
  {
   "cell_type": "code",
   "execution_count": null,
   "id": "950a242e-6498-4a1d-a0a7-cdebd5b4af93",
   "metadata": {},
   "outputs": [],
   "source": [
    "x[1]"
   ]
  },
  {
   "cell_type": "code",
   "execution_count": null,
   "id": "102bdc2e-9015-4c50-aeff-5145ddea593c",
   "metadata": {},
   "outputs": [],
   "source": [
    "x[-1]"
   ]
  },
  {
   "cell_type": "code",
   "execution_count": null,
   "id": "cfff8cd0-b6d4-4abe-95c1-0d971cfc1a6f",
   "metadata": {},
   "outputs": [],
   "source": [
    "x[0] = 2 # replacing\n",
    "x"
   ]
  },
  {
   "cell_type": "code",
   "execution_count": null,
   "id": "e97cb009-34d3-40ae-8db1-07605491c2dc",
   "metadata": {},
   "outputs": [],
   "source": [
    "x.insert(0, 'a') # inserting in-place\n",
    "x"
   ]
  },
  {
   "cell_type": "code",
   "execution_count": null,
   "id": "6c67848f-baed-491b-9959-cc30721c50bd",
   "metadata": {},
   "outputs": [],
   "source": [
    "list('abc') # convert from other sequence"
   ]
  },
  {
   "cell_type": "code",
   "execution_count": null,
   "id": "5b520730-5da6-45b4-bd26-867dcaaf1f53",
   "metadata": {},
   "outputs": [],
   "source": [
    "print(x + list('abc')) # concatenation creates a new list\n",
    "x"
   ]
  },
  {
   "cell_type": "code",
   "execution_count": null,
   "id": "1ca8cc09-80d6-4612-81cc-25fb10c942de",
   "metadata": {},
   "outputs": [],
   "source": [
    "x = list('abc') # reverse a list in-place\n",
    "x.reverse()\n",
    "x"
   ]
  },
  {
   "cell_type": "code",
   "execution_count": null,
   "id": "679d725e-8993-43f3-8e24-e8676f2fa164",
   "metadata": {},
   "outputs": [],
   "source": [
    "x = list('hello')\n",
    "print(sorted(x)) # Sorting creates a new list\n",
    "x"
   ]
  },
  {
   "cell_type": "code",
   "execution_count": null,
   "id": "0e2eea41-b58d-4ed2-a54b-1a30a92f2ab8",
   "metadata": {},
   "outputs": [],
   "source": [
    "sorted(list('hello'), reverse=True)"
   ]
  },
  {
   "cell_type": "markdown",
   "id": "05fa4d6a-8f5b-4df5-9255-4c2a083c8d0c",
   "metadata": {},
   "source": [
    "## Compound Types - tuple\n",
    "* immutable\n",
    "* 0-indexed"
   ]
  },
  {
   "cell_type": "code",
   "execution_count": null,
   "id": "6bf81329-26f9-42ec-a2b0-f9a3e280d6f4",
   "metadata": {},
   "outputs": [],
   "source": [
    "x = ('a', 'b', 3) # or tuple('abc')\n",
    "x"
   ]
  },
  {
   "cell_type": "code",
   "execution_count": null,
   "id": "c6ea02a3-4fe9-429e-bc17-9df1396439e3",
   "metadata": {},
   "outputs": [],
   "source": [
    "x.append('d') # NO!"
   ]
  },
  {
   "cell_type": "code",
   "execution_count": null,
   "id": "1b1fcac2-b26a-4995-b394-29c2674e1288",
   "metadata": {},
   "outputs": [],
   "source": [
    "len(x) # length"
   ]
  },
  {
   "cell_type": "code",
   "execution_count": null,
   "id": "bdac9e17-c4ce-4c22-8a4a-5adbe82ba641",
   "metadata": {},
   "outputs": [],
   "source": [
    "x[2] # indexing"
   ]
  },
  {
   "cell_type": "code",
   "execution_count": null,
   "id": "6044c9b4-6030-4f94-9fd7-77d06f2681e8",
   "metadata": {},
   "outputs": [],
   "source": [
    "x[2] = 'CHANGE!' # NO!"
   ]
  },
  {
   "cell_type": "code",
   "execution_count": null,
   "id": "4b8688a0-d3fb-4fc9-a83f-ce9e72525592",
   "metadata": {},
   "outputs": [],
   "source": [
    " x + ('d', 'e', 'f') # creates a *new* tuple"
   ]
  },
  {
   "cell_type": "code",
   "execution_count": null,
   "id": "6c761351-59a7-4583-ba1a-77a0f61dfd32",
   "metadata": {},
   "outputs": [],
   "source": [
    "empty_tuple = ()\n",
    "one_item_tuple = (1, )\n",
    "print(empty_tuple, one_item_tuple)"
   ]
  },
  {
   "cell_type": "code",
   "execution_count": null,
   "id": "9badfb9a-3a0d-4d4a-bcc3-2a0e7259b400",
   "metadata": {},
   "outputs": [],
   "source": [
    "mutable = (['a'], ['b']) # the *tuple* is immutable, but the contents are mutable\n",
    "mutable[0].append('weird')\n",
    "mutable"
   ]
  },
  {
   "cell_type": "markdown",
   "id": "606a929f-01dd-408f-a1c6-181d1b0911c2",
   "metadata": {},
   "source": [
    "## Compound Types - dict\n",
    "* key-value pairs\n",
    "* keys can be any _hashable_ value or object\n",
    "* mutable\n",
    "* Python 3.6+ dicts are ordered by default; prior to that, you can use `collections.OrderedDict`"
   ]
  },
  {
   "cell_type": "code",
   "execution_count": null,
   "id": "4e9945db-b8e6-4084-9fee-5514636a8048",
   "metadata": {},
   "outputs": [],
   "source": [
    "x = {'a': 5, 'b': 10}\n",
    "x"
   ]
  },
  {
   "cell_type": "code",
   "execution_count": null,
   "id": "f8551642-6149-429c-b9b2-afa3356b8279",
   "metadata": {},
   "outputs": [],
   "source": [
    "dict(a=5, b=10)"
   ]
  },
  {
   "cell_type": "code",
   "execution_count": null,
   "id": "d460f305-5282-43f8-ba5d-e762ecea1689",
   "metadata": {},
   "outputs": [],
   "source": [
    "dict([('a', 5), ('b', 10)])"
   ]
  },
  {
   "cell_type": "code",
   "execution_count": null,
   "id": "8b3d2aa0-8b77-4924-918b-37780db45d72",
   "metadata": {},
   "outputs": [],
   "source": [
    "x['c'] = 12\n",
    "x['c']"
   ]
  },
  {
   "cell_type": "code",
   "execution_count": null,
   "id": "f39eac8d-9409-41d1-bc7f-aa2891520185",
   "metadata": {},
   "outputs": [],
   "source": [
    "x['a'] = 100\n",
    "x"
   ]
  },
  {
   "cell_type": "code",
   "execution_count": null,
   "id": "1f7775be-0fe6-410e-aa56-a6d1ed60b81a",
   "metadata": {},
   "outputs": [],
   "source": [
    "x.update({'b': 200, 'd': 13})  # update in-place\n",
    "x"
   ]
  },
  {
   "cell_type": "code",
   "execution_count": null,
   "id": "a951090c-9e0d-454f-b2ac-c77c76d6ce14",
   "metadata": {},
   "outputs": [],
   "source": [
    "len(x)"
   ]
  },
  {
   "cell_type": "code",
   "execution_count": null,
   "id": "73ca7ec4-9d73-4e98-a1b4-c84b8aa79490",
   "metadata": {},
   "outputs": [],
   "source": [
    "list(x)  # list of keys"
   ]
  },
  {
   "cell_type": "code",
   "execution_count": null,
   "id": "b7ed5290-9ac7-4aed-a940-ad56466ad62f",
   "metadata": {},
   "outputs": [],
   "source": [
    "list(x.values()) # list of values"
   ]
  },
  {
   "cell_type": "code",
   "execution_count": null,
   "id": "ffe7292c-2cb2-4772-93cb-1fbde234ca0c",
   "metadata": {},
   "outputs": [],
   "source": [
    "list(x.items()) # list of (key, value) tuples"
   ]
  },
  {
   "cell_type": "markdown",
   "id": "d6221cb9-d265-4b88-8578-e8df428cc7ef",
   "metadata": {},
   "source": [
    "## Compound Types - set\n",
    "* mutable, no indexed, unordered"
   ]
  },
  {
   "cell_type": "code",
   "execution_count": null,
   "id": "ab51a799-c16f-4982-b98c-73e96809519c",
   "metadata": {},
   "outputs": [],
   "source": [
    "x = {'a', 'b', 'c'} # or set('abc')"
   ]
  },
  {
   "cell_type": "code",
   "execution_count": null,
   "id": "4d240692-4124-4fa6-9559-6d42ccc150af",
   "metadata": {},
   "outputs": [],
   "source": [
    "x.add('d') # add, not append\n",
    "x.add('a') # does nothing\n",
    "x"
   ]
  },
  {
   "cell_type": "code",
   "execution_count": null,
   "id": "39ccd638-138e-44e5-80b8-df1ed4c17a55",
   "metadata": {},
   "outputs": [],
   "source": [
    "set('hello') | set('world') # union\n",
    "set('hello') & set('world') # intersection\n",
    "set('hello') ^ set('world') # symmetric difference\n",
    "set('hello') - set('world') # difference"
   ]
  },
  {
   "cell_type": "markdown",
   "id": "afb62b34-5f8c-492b-8652-32c92ed35372",
   "metadata": {},
   "source": [
    "## `in` Operator"
   ]
  },
  {
   "cell_type": "code",
   "execution_count": null,
   "id": "07ad1e3a-4974-4185-bc93-4994bc2cd3f4",
   "metadata": {},
   "outputs": [],
   "source": [
    "print(\n",
    "    'e' in 'hello', # strings are sequences\n",
    "\n",
    "    4 not in (1, 2, 3),\n",
    "\n",
    "    4 in [4, 5, 6],\n",
    "\n",
    "    0 not in {1, 2, 3},\n",
    "\n",
    "    'value' in {'value': 3} # dicts behave like a collection of keys\n",
    ")"
   ]
  },
  {
   "cell_type": "markdown",
   "id": "1984a107-4942-4fac-bbfc-c76e2474753d",
   "metadata": {},
   "source": [
    "## Identity and Equivalence\n",
    "* `is` and `is not` test for identity of reference\n",
    "* `==` and `!=` test for equivalence\n",
    "* DO NOT use `is` or `is not` to compare literals or primitive values"
   ]
  },
  {
   "cell_type": "code",
   "execution_count": null,
   "id": "6dfa3b92-a0c5-4fee-8236-33a74586f704",
   "metadata": {},
   "outputs": [],
   "source": [
    "x = float()\n",
    "y = x\n",
    "x is y"
   ]
  },
  {
   "cell_type": "code",
   "execution_count": null,
   "id": "6e37d32e-f952-4b69-a28a-22aaeeccdbdc",
   "metadata": {},
   "outputs": [],
   "source": [
    "float(1) is float(1) # some types do not cache instances"
   ]
  },
  {
   "cell_type": "code",
   "execution_count": null,
   "id": "9451e480-cbba-43c7-8658-2a670a91e240",
   "metadata": {},
   "outputs": [],
   "source": [
    "float(1) == float(1)"
   ]
  },
  {
   "cell_type": "code",
   "execution_count": null,
   "id": "e1a19af6-234a-4a7b-9381-c68654dbb8bf",
   "metadata": {},
   "outputs": [],
   "source": [
    "0 == float() # equivalence is implemented across numeric types"
   ]
  },
  {
   "cell_type": "code",
   "execution_count": null,
   "id": "72711ffe-e0d9-429c-a288-ffbea58438a8",
   "metadata": {},
   "outputs": [],
   "source": [
    "{1, 2} == {2, 1}"
   ]
  },
  {
   "cell_type": "code",
   "execution_count": null,
   "id": "426aad20-2d26-443c-9a0a-2b3698d94004",
   "metadata": {},
   "outputs": [],
   "source": [
    "None is None and None == None # None is a singleton and self-equivalent"
   ]
  },
  {
   "cell_type": "markdown",
   "id": "043091f9-a11a-4fb5-af57-17b91af3140e",
   "metadata": {},
   "source": [
    "## Exercises\n",
    "* Given a string `x`, determine if it's a palindrome\n",
    "* Given a list `y`, determine the number of unique elements\n",
    "* Given a string `z`, determine if it uses every letter a-z"
   ]
  },
  {
   "cell_type": "code",
   "execution_count": null,
   "id": "3d708740-990e-48ef-80b0-16ff396f7d30",
   "metadata": {},
   "outputs": [],
   "source": [
    "x = 'racecar'"
   ]
  },
  {
   "cell_type": "code",
   "execution_count": null,
   "id": "5c9c3c34-9341-42af-9c5b-27812195e005",
   "metadata": {},
   "outputs": [],
   "source": [
    "# solution here"
   ]
  },
  {
   "cell_type": "code",
   "execution_count": null,
   "id": "5a4377de-50bd-4f18-b07b-9e3184094a90",
   "metadata": {},
   "outputs": [],
   "source": [
    "y = ['apple', 'banana', 'apple', 'orange', 'banana', 'peach']"
   ]
  },
  {
   "cell_type": "code",
   "execution_count": null,
   "id": "1c6cab56-f2ff-466e-ab12-d3d150fc9a16",
   "metadata": {},
   "outputs": [],
   "source": [
    "# solution here"
   ]
  },
  {
   "cell_type": "code",
   "execution_count": null,
   "id": "d3361558-3f48-49aa-abeb-328c747b5325",
   "metadata": {},
   "outputs": [],
   "source": [
    "z = 'the fast brown fox jumps over the lazy dog'"
   ]
  },
  {
   "cell_type": "code",
   "execution_count": null,
   "id": "1b89de04-94f8-4eaa-b258-7dfabea7a587",
   "metadata": {},
   "outputs": [],
   "source": [
    "# solution here"
   ]
  },
  {
   "cell_type": "markdown",
   "id": "3ac92fbb-7139-46ef-a92b-3c94b08c768a",
   "metadata": {},
   "source": [
    "## Control Flow - Logical Operators\n",
    "* _and_ and _or_ are short-circuiting."
   ]
  },
  {
   "cell_type": "code",
   "execution_count": null,
   "id": "7ce1a353-234d-4b51-af03-70bf2305a149",
   "metadata": {},
   "outputs": [],
   "source": [
    "True and False"
   ]
  },
  {
   "cell_type": "code",
   "execution_count": null,
   "id": "3af9798e-de17-4865-93cb-8101ec49315d",
   "metadata": {},
   "outputs": [],
   "source": [
    "False or True"
   ]
  },
  {
   "cell_type": "code",
   "execution_count": null,
   "id": "4002c16d-3d51-4f51-b797-e0e552432860",
   "metadata": {},
   "outputs": [],
   "source": [
    "x = 2\n",
    "x < 0 and print(f'{x} is negative')\n",
    "x > 0 and f'{x} is positive'"
   ]
  },
  {
   "cell_type": "code",
   "execution_count": null,
   "id": "6f8505f4-446e-4e0d-a824-ddc9dd8cd364",
   "metadata": {},
   "outputs": [],
   "source": [
    "x <= 0 or print(f'{x} is positive')\n",
    "x >= 0 or f'{x} is negative'"
   ]
  },
  {
   "cell_type": "markdown",
   "id": "070268bd-5e14-4b12-9cfa-855d8a79a27a",
   "metadata": {},
   "source": [
    "## Control Flow - Conditionals\n",
    "* Indentation is the block delimiter, not curly braces!"
   ]
  },
  {
   "cell_type": "code",
   "execution_count": null,
   "id": "326b7f85-3928-447b-ba4f-0ebe4012587e",
   "metadata": {},
   "outputs": [],
   "source": [
    "x = 0\n",
    "if x > 0:\n",
    "    print(f'{x} is positive')\n",
    "elif x < 0:\n",
    "    print(f'{x} is negative')\n",
    "else:\n",
    "    print(f'{x} is zero')"
   ]
  },
  {
   "cell_type": "code",
   "execution_count": null,
   "id": "381b7a85-8e6b-4fd6-8e17-279f104c5904",
   "metadata": {},
   "outputs": [],
   "source": [
    "x = -1\n",
    "print(f'{x} is positive') if x > 0 else print(f'{x} is not positive')  # ternaries also short-circuit\n",
    "f'{x} is negative' if x < 0 else f'{x} is not negative'"
   ]
  },
  {
   "cell_type": "markdown",
   "id": "d3fbfd1c-d5ff-4041-8c6d-761b679960b3",
   "metadata": {},
   "source": [
    "## Control Flow - Loops\n",
    "* loops can be nested\n",
    "* `continue` stops execution of the current iteration and continues with the next\n",
    "* `break` stops execution of the current iteration and exits the inner-most loop\n",
    "* loops optionally execute an `else` block if they complete unbroken"
   ]
  },
  {
   "cell_type": "code",
   "execution_count": null,
   "id": "5dcab409-85be-42ee-b7e2-9ea0546ea03e",
   "metadata": {},
   "outputs": [],
   "source": [
    "x = 0\n",
    "while x < 5:\n",
    "    print(x)\n",
    "    x = x + 1\n",
    "else:\n",
    "    print('done')"
   ]
  },
  {
   "cell_type": "code",
   "execution_count": null,
   "id": "2781db8d-1215-4154-83ab-516223f85237",
   "metadata": {},
   "outputs": [],
   "source": [
    "colors = ['red', 'green', 'blue']\n",
    "for color in colors:\n",
    "    print(color)"
   ]
  },
  {
   "cell_type": "code",
   "execution_count": null,
   "id": "0d191757-1ad5-496b-97aa-81e5fb4424da",
   "metadata": {},
   "outputs": [],
   "source": [
    "for x in range(5):\n",
    "    print(x)"
   ]
  },
  {
   "cell_type": "code",
   "execution_count": null,
   "id": "46883ed1-e72f-4002-8b40-370e34a6d1a3",
   "metadata": {},
   "outputs": [],
   "source": [
    "for x in range(5):\n",
    "    if (x % 2) == 0:\n",
    "        continue\n",
    "    print(x)"
   ]
  },
  {
   "cell_type": "code",
   "execution_count": null,
   "id": "e38d723b-bb66-47c6-b4ee-8c0aad4fb44f",
   "metadata": {},
   "outputs": [],
   "source": [
    "x = 2\n",
    "while x < 10:\n",
    "    for i in range(2, x):\n",
    "        if x != i and x % i == 0:\n",
    "            print(f'{x} is not prime. {i} is a factor.')\n",
    "            break\n",
    "    else:\n",
    "        print(f'{x} is prime')\n",
    "    x = x + 1"
   ]
  },
  {
   "cell_type": "markdown",
   "id": "722d0456-136c-4bb8-84bb-d9d4822497a8",
   "metadata": {},
   "source": [
    "## Functions\n",
    "* Python uses _lexical scoping_\n",
    "* Functions are _first class objects_\n",
    "* Functions take both positional and keyword arguments\n",
    "* `lambda` generates anonymous functions"
   ]
  },
  {
   "cell_type": "code",
   "execution_count": null,
   "id": "3f620d65-ca6b-4373-8196-158918af7208",
   "metadata": {},
   "outputs": [],
   "source": [
    "def f(x):\n",
    "    return x ** 2 + 5\n",
    "\n",
    "f(3)"
   ]
  },
  {
   "cell_type": "code",
   "execution_count": null,
   "id": "50e0ac68-f825-43ff-baff-e5d4729f4b6d",
   "metadata": {},
   "outputs": [],
   "source": [
    "bias = 5\n",
    "exponent = 2\n",
    "\n",
    "# Variables in the context of the function definition can be used in the function.\n",
    "# They are added to the function closure.\n",
    "\n",
    "def g(x):\n",
    "    return x ** exponent + bias \n",
    "\n",
    "g(3)"
   ]
  },
  {
   "cell_type": "code",
   "execution_count": null,
   "id": "998c7b0b-aa54-4aa1-b3c5-6d8effc96416",
   "metadata": {},
   "outputs": [],
   "source": [
    "bias = 5\n",
    "\n",
    "def f(x):\n",
    "    # Variable assignments shadow variables outer scopes.\n",
    "    bias = 10\n",
    "    return x + bias\n",
    "\n",
    "print(f(3))\n",
    "bias"
   ]
  },
  {
   "cell_type": "code",
   "execution_count": null,
   "id": "1908eff7-a45d-48f4-8367-d3f3bd4f4be9",
   "metadata": {},
   "outputs": [],
   "source": [
    "bias = 5\n",
    "\n",
    "def g(x):\n",
    "    # The \"global\" keyword places a variable in the global scope.\n",
    "    global bias\n",
    "    bias = bias + x\n",
    "\n",
    "g(3)\n",
    "bias"
   ]
  },
  {
   "cell_type": "code",
   "execution_count": null,
   "id": "e14c0297-83e2-44e7-b9c5-eb4cd932b927",
   "metadata": {},
   "outputs": [],
   "source": [
    "x = 5\n",
    "\n",
    "def f(x):\n",
    "    x = x + 10\n",
    "    return x\n",
    "\n",
    "def operate_on_x(operation):\n",
    "    return operation(x)\n",
    "\n",
    "operate_on_x(f)"
   ]
  },
  {
   "cell_type": "code",
   "execution_count": null,
   "id": "47ea834b-be7c-4ff4-a12a-2cf2c582fc19",
   "metadata": {},
   "outputs": [],
   "source": [
    "x = 7\n",
    "operate_on_x(f)"
   ]
  },
  {
   "cell_type": "code",
   "execution_count": null,
   "id": "32d6a109-dc49-4fe9-8127-a8edd1b489c6",
   "metadata": {},
   "outputs": [],
   "source": [
    "operate_on_x(lambda x: x - 5)"
   ]
  },
  {
   "cell_type": "code",
   "execution_count": null,
   "id": "977de951-03f9-455a-ab1b-59f74b9c1c39",
   "metadata": {},
   "outputs": [],
   "source": [
    "f = lambda x, g, h: g(h(x))\n",
    "f(2, lambda x: x + 2, lambda x: 2 * x)"
   ]
  },
  {
   "cell_type": "code",
   "execution_count": null,
   "id": "6b40653d-88f0-4960-9c7e-b97fecfb576a",
   "metadata": {},
   "outputs": [],
   "source": [
    "def composition(left, right):\n",
    "    return lambda x: left(right(x))\n",
    "\n",
    "add_2 = lambda x: x + 2\n",
    "double = lambda x: 2 * x\n",
    "\n",
    "f = composition(add_2, double)\n",
    "print(f(2))\n",
    "\n",
    "g = composition(right=add_2, left=double)\n",
    "print(g(2))"
   ]
  },
  {
   "cell_type": "markdown",
   "id": "7a44faf5-7554-447e-afbd-550105629bc1",
   "metadata": {},
   "source": [
    "## Comprehensions\n",
    "* Convenient shorthand for creating lists, dicts, and sets with implicit loops"
   ]
  },
  {
   "cell_type": "code",
   "execution_count": null,
   "id": "aa367052-14ab-4c88-a774-ecfb60d7d3b7",
   "metadata": {},
   "outputs": [],
   "source": [
    "nums = [1, 2, 3, 4, 5, 6, 7]\n",
    "squares = []\n",
    "for num in nums:\n",
    "    squares.append(num ** 2)\n",
    "squares"
   ]
  },
  {
   "cell_type": "code",
   "execution_count": null,
   "id": "125c233f-9ca6-4157-90f8-143e2683c089",
   "metadata": {},
   "outputs": [],
   "source": [
    " [num ** 2 for num in nums]"
   ]
  },
  {
   "cell_type": "code",
   "execution_count": null,
   "id": "e6e80481-b8dc-407c-8734-6f09e1a41da8",
   "metadata": {},
   "outputs": [],
   "source": [
    "[num ** 2 for num in nums if num % 2 == 0]"
   ]
  },
  {
   "cell_type": "code",
   "execution_count": null,
   "id": "87329b3a-5575-429e-b3be-1cc768223361",
   "metadata": {},
   "outputs": [],
   "source": [
    "{x: x ** 2 for x in nums}"
   ]
  },
  {
   "cell_type": "code",
   "execution_count": null,
   "id": "6c440182-2496-4547-b0cf-90cafcf37e7d",
   "metadata": {},
   "outputs": [],
   "source": [
    "i = 0\n",
    "\n",
    "def next_index():\n",
    "    global i\n",
    "    result = i\n",
    "    i = i + 1\n",
    "    return result\n",
    "\n",
    "{next_index(): letter for letter in 'hello'}"
   ]
  },
  {
   "cell_type": "markdown",
   "id": "a67269c0-a1b2-4ca1-8569-f9fc8d1089a5",
   "metadata": {},
   "source": [
    "## Exercises\n",
    "* Write a function that returns the sum of all numbers in a list\n",
    "* Write a function that returns the longest string from a list of strings\n",
    "* Write a function that takes a list of integers and returns a dictionary that maps each integer to its prime status\n",
    "    * eg: list_is_prime([2, 3, 4]) returns {2: True, 3: True, 4: False}"
   ]
  },
  {
   "cell_type": "code",
   "execution_count": null,
   "id": "0e1d79e3-56a6-45a7-9906-258ba2d0d54b",
   "metadata": {},
   "outputs": [],
   "source": [
    "def sum_numbers(vals):\n",
    "    ..."
   ]
  },
  {
   "cell_type": "code",
   "execution_count": null,
   "id": "541c3cb8-8dc6-4db2-b60e-2e96f3c89edb",
   "metadata": {},
   "outputs": [],
   "source": [
    "# run this cell to test your solution\n",
    "assert sum_numbers([1, 2, 3]) == 6\n",
    "assert sum_numbers([1]) == 1\n",
    "assert sum_numbers((3, 4, 5)) == 12\n",
    "assert sum_numbers([]) == 0"
   ]
  },
  {
   "cell_type": "code",
   "execution_count": null,
   "id": "e9c348af-2ca7-4fef-90fd-36aef8bebd21",
   "metadata": {},
   "outputs": [],
   "source": [
    "def longest_string(strings):\n",
    "    ..."
   ]
  },
  {
   "cell_type": "code",
   "execution_count": null,
   "id": "2532714b-1993-48d0-8cbf-5cf9a54d0fd8",
   "metadata": {},
   "outputs": [],
   "source": [
    "# test\n",
    "assert longest_string(['', 'hi']) == 'hi'\n",
    "assert longest_string(['hello']) == 'hello'\n",
    "assert longest_string([]) == None\n",
    "assert longest_string(['hello', 'hi']) == 'hello'\n",
    "assert longest_string(['hi', 'hello']) == 'hello'"
   ]
  },
  {
   "cell_type": "code",
   "execution_count": null,
   "id": "781037c0-f8a7-4c57-bcbb-de22dc325b79",
   "metadata": {},
   "outputs": [],
   "source": [
    "def is_prime(n):\n",
    "    return [i for i in range(1, n) if (n % i) == 0] == [1]\n",
    "\n",
    "def list_is_prime(vals):\n",
    "    ... "
   ]
  },
  {
   "cell_type": "code",
   "execution_count": null,
   "id": "9bdb19fd-dd6b-4ae9-b1e4-2baf4cc5202c",
   "metadata": {},
   "outputs": [],
   "source": [
    "# test\n",
    "assert list_is_prime([]) == []\n",
    "assert list_is_prime([2, 3, 4]) == [True, True, False]\n",
    "assert list_is_prime([2, 3, 5]) == [True, True, True]"
   ]
  }
 ],
 "metadata": {
  "kernelspec": {
   "display_name": "Python 3",
   "language": "python",
   "name": "python3"
  },
  "language_info": {
   "codemirror_mode": {
    "name": "ipython",
    "version": 3
   },
   "file_extension": ".py",
   "mimetype": "text/x-python",
   "name": "python",
   "nbconvert_exporter": "python",
   "pygments_lexer": "ipython3",
   "version": "3.9.4"
  },
  "toc-showtags": true
 },
 "nbformat": 4,
 "nbformat_minor": 5
}
