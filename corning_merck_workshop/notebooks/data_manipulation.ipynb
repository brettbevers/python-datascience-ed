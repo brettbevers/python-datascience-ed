{
 "cells": [
  {
   "cell_type": "markdown",
   "id": "0630b910-f3cf-4e0e-a4e9-91d0808e0cd8",
   "metadata": {},
   "source": [
    "## JSON"
   ]
  },
  {
   "cell_type": "code",
   "execution_count": null,
   "id": "5060d339-85c7-42dd-8052-9fdb1c8ed53d",
   "metadata": {},
   "outputs": [],
   "source": [
    "import json\n",
    "value = {'a': True, 'b': 3}"
   ]
  },
  {
   "cell_type": "code",
   "execution_count": null,
   "id": "6163f0e3-3159-4053-8e32-a15c4c699e27",
   "metadata": {},
   "outputs": [],
   "source": [
    "encoded = json.dumps(value)\n",
    "encoded"
   ]
  },
  {
   "cell_type": "code",
   "execution_count": null,
   "id": "69944fcc-3eac-4b81-8457-d508049a0470",
   "metadata": {},
   "outputs": [],
   "source": [
    "decoded = json.loads(encoded)\n",
    "decoded"
   ]
  },
  {
   "cell_type": "code",
   "execution_count": null,
   "id": "eb0b6f4c-d263-41e9-8f33-b751e3839901",
   "metadata": {},
   "outputs": [],
   "source": [
    "decoded == value"
   ]
  },
  {
   "cell_type": "markdown",
   "id": "2f8442e9-d8f7-426a-8200-6d8780276456",
   "metadata": {},
   "source": [
    "## NumPy\n",
    "* Written in C, but exposed through Python\n",
    "* Extremely fast and memory efficient for numeric processing\n",
    "* Primary feature is the ndarray - a machine-typed n-dimensional array"
   ]
  },
  {
   "cell_type": "code",
   "execution_count": null,
   "id": "60728618-b126-4776-a447-e8445ebbae29",
   "metadata": {},
   "outputs": [],
   "source": [
    "import numpy as np\n",
    "x = np.array([1, 2, 3, 4])\n",
    "x"
   ]
  },
  {
   "cell_type": "code",
   "execution_count": null,
   "id": "6f505a1d-7258-4170-995d-f95908c98216",
   "metadata": {},
   "outputs": [],
   "source": [
    "print(\n",
    "    x.sum(),\n",
    "    x.mean()\n",
    ")"
   ]
  },
  {
   "cell_type": "code",
   "execution_count": null,
   "id": "df018072-e065-44ec-b323-27801bc948fc",
   "metadata": {},
   "outputs": [],
   "source": [
    "print(\n",
    "    x * 2, # arithmetic on ndarrays is element-wise\n",
    "    x + 2,\n",
    "    x > 2 # same for boolean expressions\n",
    ")"
   ]
  },
  {
   "cell_type": "code",
   "execution_count": null,
   "id": "9c68684c-2ed1-424e-8e27-52bf289265c0",
   "metadata": {},
   "outputs": [],
   "source": [
    "# Advanced indexing with integer or boolean lists / arrays\n",
    "print (\n",
    "    x[[1, 2]],\n",
    "    x[[False, True, True, False]],\n",
    "    x[x > 2]\n",
    ")"
   ]
  },
  {
   "cell_type": "code",
   "execution_count": null,
   "id": "8b1687dd-faf2-4ef4-bfd0-bc6ee62a6ea4",
   "metadata": {},
   "outputs": [],
   "source": [
    "# Multidimensional array\n",
    "\n",
    "mx = np.array([[0, 1, 2, 3, 4], [5, 6, 7, 8, 9]])\n",
    "mx.shape"
   ]
  },
  {
   "cell_type": "code",
   "execution_count": null,
   "id": "9eaecaec-8d61-4e15-be33-386256373309",
   "metadata": {},
   "outputs": [],
   "source": [
    "# Array slicing works for each dimension\n",
    "\n",
    "for nda in [\n",
    "    mx[0, 0],\n",
    "    mx[:, 0],\n",
    "    mx[:, 1:3],\n",
    "    mx[:, 1:],\n",
    "    mx[:, :3],\n",
    "]:\n",
    "    print(nda)"
   ]
  },
  {
   "cell_type": "code",
   "execution_count": null,
   "id": "e8184a0a-e5f7-465b-9524-1a66fa52849b",
   "metadata": {},
   "outputs": [],
   "source": [
    "# np.arange() works like the Python builtin range()\n",
    "\n",
    "np.arange(10).reshape((2, 5))"
   ]
  },
  {
   "cell_type": "code",
   "execution_count": null,
   "id": "946bcc9f-011a-453a-b6de-fb293ca649e7",
   "metadata": {},
   "outputs": [],
   "source": [
    "np.zeros((2, 5))"
   ]
  },
  {
   "cell_type": "code",
   "execution_count": null,
   "id": "944824dd-e80a-43ed-ae45-c68067b475fb",
   "metadata": {},
   "outputs": [],
   "source": [
    "np.ones((2, 5))"
   ]
  },
  {
   "cell_type": "markdown",
   "id": "4c484638-3b7e-44ec-a0e2-7885728ed7c7",
   "metadata": {},
   "source": [
    "## Pandas\n",
    "* Also written in C and exposed in Python\n",
    "* Builds upon NumPy and extends it in a lot of great ways\n",
    "* Biggest features are data frames / series, transformations, and file handling"
   ]
  },
  {
   "cell_type": "code",
   "execution_count": null,
   "id": "e8d17da5-09ee-4f5a-872b-ad94ef72753e",
   "metadata": {},
   "outputs": [],
   "source": [
    "import pandas as pd\n",
    "\n",
    "# Valid URL schemes include http, ftp, s3, gs, and file.\n",
    "df = pd.read_csv('file://localhost/home/jovyan/work/penguins.csv')\n",
    "df"
   ]
  },
  {
   "cell_type": "code",
   "execution_count": null,
   "id": "112c1344-13db-45cf-a7da-88a29d20b1f3",
   "metadata": {},
   "outputs": [],
   "source": [
    "# Columns can be accessed as series. Series behave like NumPy arrays.\n",
    "df['bill_length_mm']"
   ]
  },
  {
   "cell_type": "code",
   "execution_count": null,
   "id": "91ba51ea-c20c-46c9-a031-e593b0e421e1",
   "metadata": {},
   "outputs": [],
   "source": [
    "df['bill_length_mm'].describe()"
   ]
  },
  {
   "cell_type": "code",
   "execution_count": null,
   "id": "8d0b1948-c288-4a01-8290-55231db0e9d6",
   "metadata": {},
   "outputs": [],
   "source": [
    "df['bill_length_mm'][df['species'] == 'Adelie'].describe()"
   ]
  },
  {
   "cell_type": "code",
   "execution_count": null,
   "id": "a0c63a0b-7daf-450a-b09b-3d725d5f740c",
   "metadata": {},
   "outputs": [],
   "source": [
    "df['bill_diff'] = df['bill_length_mm'] - df['bill_depth_mm']\n",
    "df"
   ]
  },
  {
   "cell_type": "code",
   "execution_count": null,
   "id": "7b0898e8-9720-47a7-908d-7c62d8b37950",
   "metadata": {},
   "outputs": [],
   "source": [
    "df[['species', 'bill_length_mm', 'bill_depth_mm']].groupby('species').mean()"
   ]
  },
  {
   "cell_type": "markdown",
   "id": "bf2e4201-29f9-41bd-ba6e-b6a15096b7f3",
   "metadata": {},
   "source": [
    "##  matplotlib\n",
    "\n",
    "* Python's dominant 2D and 3D visualization platform\n",
    "* Flexible\n",
    "* Fairly accessible to new users, extremely powerful for pro users"
   ]
  },
  {
   "cell_type": "code",
   "execution_count": null,
   "id": "78d4d6b9-1799-4eb6-b189-6e26c6a26784",
   "metadata": {},
   "outputs": [],
   "source": [
    "import matplotlib as mpl\n",
    "import matplotlib.pyplot as plt\n",
    "\n",
    "plt.hist(df['bill_length_mm'])\n",
    "plt.show()"
   ]
  },
  {
   "cell_type": "code",
   "execution_count": null,
   "id": "413bea1d-2f89-4895-aef8-1723e763871e",
   "metadata": {},
   "outputs": [],
   "source": [
    "species = df['species'].astype('category').cat\n",
    "\n",
    "for s in species.categories:\n",
    "    plt.title(s)\n",
    "    plt.hist(df['bill_length_mm'][df['species'] == s])\n",
    "    plt.show()"
   ]
  },
  {
   "cell_type": "code",
   "execution_count": null,
   "id": "553c5d8b-e5d5-40aa-bb44-9de6a60bcebf",
   "metadata": {},
   "outputs": [],
   "source": [
    "plt.scatter(df['bill_length_mm'], df['bill_depth_mm'])\n",
    "plt.show()"
   ]
  },
  {
   "cell_type": "code",
   "execution_count": null,
   "id": "190fc07d-e47f-4d1f-9f05-4dd44d73eab5",
   "metadata": {},
   "outputs": [],
   "source": [
    "plt.title('Bill Shape')\n",
    "plt.xlabel('Bill length (mm)')\n",
    "plt.ylabel('Bill depth (mm)')\n",
    "\n",
    "scatter = plt.scatter(\n",
    "    df['bill_length_mm'], \n",
    "    df['bill_depth_mm'], \n",
    "    c=species.codes\n",
    ")\n",
    "\n",
    "for i, label in enumerate(species.categories):\n",
    "    plt.plot([], color=scatter.cmap(scatter.norm(i)), label=label)\n",
    "\n",
    "plt.legend()\n",
    "plt.grid(b=True, which='both', color='grey', linestyle='--')\n",
    "plt.axis('equal')\n",
    "\n",
    "plt.show()\n",
    "plt.close()"
   ]
  },
  {
   "cell_type": "code",
   "execution_count": null,
   "id": "636fbb10-9e94-4779-a6f5-2cd0cb35dc30",
   "metadata": {},
   "outputs": [],
   "source": []
  }
 ],
 "metadata": {
  "kernelspec": {
   "display_name": "Python 3",
   "language": "python",
   "name": "python3"
  },
  "language_info": {
   "codemirror_mode": {
    "name": "ipython",
    "version": 3
   },
   "file_extension": ".py",
   "mimetype": "text/x-python",
   "name": "python",
   "nbconvert_exporter": "python",
   "pygments_lexer": "ipython3",
   "version": "3.9.4"
  }
 },
 "nbformat": 4,
 "nbformat_minor": 5
}
